{
 "cells": [
  {
   "cell_type": "code",
   "execution_count": 26,
   "metadata": {},
   "outputs": [],
   "source": [
    "from optimize import simulation_LOOCV\n",
    "import numpy as np\n",
    "import pandas as pd\n",
    "import os\n",
    "os.environ['KMP_DUPLICATE_LIB_OK']='True'"
   ]
  },
  {
   "cell_type": "markdown",
   "metadata": {},
   "source": [
    "读取数据集，按照tau分类"
   ]
  },
  {
   "cell_type": "code",
   "execution_count": 27,
   "metadata": {},
   "outputs": [
    {
     "data": {
      "text/html": [
       "<div>\n",
       "<style scoped>\n",
       "    .dataframe tbody tr th:only-of-type {\n",
       "        vertical-align: middle;\n",
       "    }\n",
       "\n",
       "    .dataframe tbody tr th {\n",
       "        vertical-align: top;\n",
       "    }\n",
       "\n",
       "    .dataframe thead th {\n",
       "        text-align: right;\n",
       "    }\n",
       "</style>\n",
       "<table border=\"1\" class=\"dataframe\">\n",
       "  <thead>\n",
       "    <tr style=\"text-align: right;\">\n",
       "      <th></th>\n",
       "      <th>date</th>\n",
       "      <th>r</th>\n",
       "      <th>exdate</th>\n",
       "      <th>strick_price(X)</th>\n",
       "      <th>option_price(C_bid)</th>\n",
       "      <th>option_price(C_offer)</th>\n",
       "      <th>close</th>\n",
       "      <th>tau(T/365)</th>\n",
       "    </tr>\n",
       "  </thead>\n",
       "  <tbody>\n",
       "    <tr>\n",
       "      <th>0</th>\n",
       "      <td>2018-07-20</td>\n",
       "      <td>2.069</td>\n",
       "      <td>2018-08-24</td>\n",
       "      <td>10.0</td>\n",
       "      <td>6.45</td>\n",
       "      <td>6.60</td>\n",
       "      <td>16.5</td>\n",
       "      <td>0.09589</td>\n",
       "    </tr>\n",
       "    <tr>\n",
       "      <th>1</th>\n",
       "      <td>2018-07-20</td>\n",
       "      <td>2.069</td>\n",
       "      <td>2018-08-24</td>\n",
       "      <td>10.5</td>\n",
       "      <td>5.95</td>\n",
       "      <td>6.10</td>\n",
       "      <td>16.5</td>\n",
       "      <td>0.09589</td>\n",
       "    </tr>\n",
       "    <tr>\n",
       "      <th>2</th>\n",
       "      <td>2018-07-20</td>\n",
       "      <td>2.069</td>\n",
       "      <td>2018-08-24</td>\n",
       "      <td>11.0</td>\n",
       "      <td>5.45</td>\n",
       "      <td>5.70</td>\n",
       "      <td>16.5</td>\n",
       "      <td>0.09589</td>\n",
       "    </tr>\n",
       "    <tr>\n",
       "      <th>3</th>\n",
       "      <td>2018-07-20</td>\n",
       "      <td>2.069</td>\n",
       "      <td>2018-08-24</td>\n",
       "      <td>11.5</td>\n",
       "      <td>4.95</td>\n",
       "      <td>5.20</td>\n",
       "      <td>16.5</td>\n",
       "      <td>0.09589</td>\n",
       "    </tr>\n",
       "    <tr>\n",
       "      <th>4</th>\n",
       "      <td>2018-07-20</td>\n",
       "      <td>2.069</td>\n",
       "      <td>2018-08-24</td>\n",
       "      <td>12.0</td>\n",
       "      <td>4.55</td>\n",
       "      <td>4.65</td>\n",
       "      <td>16.5</td>\n",
       "      <td>0.09589</td>\n",
       "    </tr>\n",
       "  </tbody>\n",
       "</table>\n",
       "</div>"
      ],
      "text/plain": [
       "         date      r      exdate  strick_price(X)  option_price(C_bid)  \\\n",
       "0  2018-07-20  2.069  2018-08-24             10.0                 6.45   \n",
       "1  2018-07-20  2.069  2018-08-24             10.5                 5.95   \n",
       "2  2018-07-20  2.069  2018-08-24             11.0                 5.45   \n",
       "3  2018-07-20  2.069  2018-08-24             11.5                 4.95   \n",
       "4  2018-07-20  2.069  2018-08-24             12.0                 4.55   \n",
       "\n",
       "   option_price(C_offer)  close  tau(T/365)  \n",
       "0                   6.60   16.5     0.09589  \n",
       "1                   6.10   16.5     0.09589  \n",
       "2                   5.70   16.5     0.09589  \n",
       "3                   5.20   16.5     0.09589  \n",
       "4                   4.65   16.5     0.09589  "
      ]
     },
     "execution_count": 27,
     "metadata": {},
     "output_type": "execute_result"
    }
   ],
   "source": [
    "# Load the data\n",
    "path = 'data/real_2018_6_7_AMD_data.csv'\n",
    "data = pd.read_csv(path)\n",
    "data.head()"
   ]
  },
  {
   "cell_type": "code",
   "execution_count": 28,
   "metadata": {},
   "outputs": [
    {
     "name": "stdout",
     "output_type": "stream",
     "text": [
      "[0.08493151 0.09589041]\n"
     ]
    }
   ],
   "source": [
    "# 提取tau(T/365)的不重复的值\n",
    "tau = np.unique(data['tau(T/365)'])\n",
    "tau = np.sort(tau)\n",
    "print(tau)"
   ]
  },
  {
   "cell_type": "code",
   "execution_count": 29,
   "metadata": {},
   "outputs": [
    {
     "data": {
      "text/plain": [
       "(          r  strick_price(X)  option_price(C_bid)  option_price(C_offer)  \\\n",
       " 24  2.08788             10.0                 6.65                   6.75   \n",
       " 25  2.08788             10.5                 6.15                   6.25   \n",
       " 26  2.08788             11.0                 5.70                   5.75   \n",
       " 27  2.08788             11.5                 5.20                   5.30   \n",
       " 28  2.08788             12.0                 4.70                   4.80   \n",
       " \n",
       "     close  tau(T/365)  \n",
       " 24  16.69    0.084932  \n",
       " 25  16.69    0.084932  \n",
       " 26  16.69    0.084932  \n",
       " 27  16.69    0.084932  \n",
       " 28  16.69    0.084932  ,\n",
       "        r  strick_price(X)  option_price(C_bid)  option_price(C_offer)  close  \\\n",
       " 0  2.069             10.0                 6.45                   6.60   16.5   \n",
       " 1  2.069             10.5                 5.95                   6.10   16.5   \n",
       " 2  2.069             11.0                 5.45                   5.70   16.5   \n",
       " 3  2.069             11.5                 4.95                   5.20   16.5   \n",
       " 4  2.069             12.0                 4.55                   4.65   16.5   \n",
       " \n",
       "    tau(T/365)  \n",
       " 0     0.09589  \n",
       " 1     0.09589  \n",
       " 2     0.09589  \n",
       " 3     0.09589  \n",
       " 4     0.09589  )"
      ]
     },
     "execution_count": 29,
     "metadata": {},
     "output_type": "execute_result"
    }
   ],
   "source": [
    "# 如果tau(T/365)=tau[0], 设置为训练集\n",
    "# 如果tau(T/365)=tau[1], 设置为测试集\n",
    "train = data[data['tau(T/365)'] == tau[0]]\n",
    "test = data[data['tau(T/365)'] == tau[1]]\n",
    "# 删除date和exdate\n",
    "train = train.drop(columns=['date', 'exdate'])\n",
    "test = test.drop(columns=['date', 'exdate'])\n",
    "train.head(), test.head()"
   ]
  },
  {
   "cell_type": "code",
   "execution_count": 30,
   "metadata": {},
   "outputs": [
    {
     "data": {
      "text/plain": [
       "(array([10. , 10.5, 11. , 11.5, 12. , 12.5, 13. , 13.5, 14. , 14.5, 15. ,\n",
       "        15.5, 16. , 16.5, 17. , 17.5, 18. , 18.5, 19. , 19.5, 20. , 20.5,\n",
       "        21. , 22. , 23. ,  3. ,  4. ,  5. ,  6. ,  7. ,  8. ,  9. ,  9.5]),\n",
       " array([ 6.65,  6.15,  5.7 ,  5.2 ,  4.7 ,  4.2 ,  3.75,  3.25,  2.85,\n",
       "         2.42,  2.02,  1.66,  1.34,  1.06,  0.83,  0.64,  0.49,  0.37,\n",
       "         0.28,  0.21,  0.16,  0.12,  0.09,  0.05,  0.03, 13.65, 12.65,\n",
       "        11.65, 10.65,  9.65,  8.65,  7.65,  7.15]),\n",
       " 33)"
      ]
     },
     "execution_count": 30,
     "metadata": {},
     "output_type": "execute_result"
    }
   ],
   "source": [
    "# 统计训练集中strick_price(X)作为X\n",
    "X = train['strick_price(X)']\n",
    "X = np.array(X)\n",
    "# 统计训练集中option_price(C_bid)作为C_obs\n",
    "C_obs = train['option_price(C_bid)']\n",
    "C_obs = np.array(C_obs)\n",
    "n = len(C_obs)\n",
    "# 统计r作为r\n",
    "r= 2.08788 / 100\n",
    "tau = 0.084932\n",
    "X, C_obs, n"
   ]
  },
  {
   "cell_type": "code",
   "execution_count": 31,
   "metadata": {},
   "outputs": [],
   "source": [
    "from modules.BS_MixG_model import C_MixG\n",
    "import matplotlib.pyplot as plt"
   ]
  },
  {
   "cell_type": "code",
   "execution_count": 32,
   "metadata": {},
   "outputs": [
    {
     "ename": "ValueError",
     "evalue": "Expected value argument (Tensor of shape (34, 33)) to be within the support (Real()) of the distribution Normal(loc: 0.0, scale: 1.0), but found invalid values:\ntensor([[nan, nan, nan,  ..., nan, nan, nan],\n        [nan, nan, nan,  ..., nan, nan, nan],\n        [nan, nan, nan,  ..., nan, nan, nan],\n        ...,\n        [nan, nan, nan,  ..., nan, nan, nan],\n        [nan, nan, nan,  ..., nan, nan, nan],\n        [nan, nan, nan,  ..., nan, nan, nan]], grad_fn=<DivBackward0>)",
     "output_type": "error",
     "traceback": [
      "\u001b[1;31m---------------------------------------------------------------------------\u001b[0m",
      "\u001b[1;31mValueError\u001b[0m                                Traceback (most recent call last)",
      "Cell \u001b[1;32mIn[32], line 2\u001b[0m\n\u001b[0;32m      1\u001b[0m mu_init_value \u001b[38;5;241m=\u001b[39m \u001b[38;5;241m2.67\u001b[39m\n\u001b[1;32m----> 2\u001b[0m C_pred, C_pred_opt_1, C_pred_opt_2, loss_opt, mu_opt, pi_opt \u001b[38;5;241m=\u001b[39m simulation_LOOCV(\u001b[38;5;241m0.071\u001b[39m, C_obs, n, X, r, tau, \u001b[38;5;241m0\u001b[39m, mu_init_value)\n\u001b[0;32m      4\u001b[0m plt\u001b[38;5;241m.\u001b[39mscatter(X, C_obs, label\u001b[38;5;241m=\u001b[39m\u001b[38;5;124m'\u001b[39m\u001b[38;5;124mC_obs\u001b[39m\u001b[38;5;124m'\u001b[39m)\n\u001b[0;32m      5\u001b[0m plt\u001b[38;5;241m.\u001b[39mscatter(X, C_pred, label\u001b[38;5;241m=\u001b[39m\u001b[38;5;124m'\u001b[39m\u001b[38;5;124mC_pred\u001b[39m\u001b[38;5;124m'\u001b[39m)\n",
      "File \u001b[1;32mc:\\Users\\Haoqi_ZHAO\\Desktop\\Jun fan project\\BS_Opt\\optimize.py:81\u001b[0m, in \u001b[0;36msimulation_LOOCV\u001b[1;34m(sigma_0, C_obs, n, X, r, tau, d, mu_guess)\u001b[0m\n\u001b[0;32m     79\u001b[0m epoch \u001b[38;5;241m=\u001b[39m \u001b[38;5;241m5\u001b[39m\n\u001b[0;32m     80\u001b[0m \u001b[38;5;28;01mfor\u001b[39;00m i \u001b[38;5;129;01min\u001b[39;00m \u001b[38;5;28mrange\u001b[39m(epoch):\n\u001b[1;32m---> 81\u001b[0m     grad, hessian \u001b[38;5;241m=\u001b[39m gradient_hessian(X_torch, r_torch, tau, sigma_0, mu_opt, pi_opt, C_obs_torch, n)\n\u001b[0;32m     82\u001b[0m     mu_opt \u001b[38;5;241m=\u001b[39m mu_opt \u001b[38;5;241m-\u001b[39m torch\u001b[38;5;241m.\u001b[39minverse(hessian) \u001b[38;5;241m@\u001b[39m grad\n\u001b[0;32m     83\u001b[0m mu_opt \u001b[38;5;241m=\u001b[39m mu_opt\u001b[38;5;241m.\u001b[39mdetach()\u001b[38;5;241m.\u001b[39mnumpy()\n",
      "File \u001b[1;32mc:\\Users\\Haoqi_ZHAO\\Desktop\\Jun fan project\\BS_Opt\\optimize.py:39\u001b[0m, in \u001b[0;36mgradient_hessian\u001b[1;34m(X, r, tau, sigma_0, mu_torch, pi, C_obs, n)\u001b[0m\n\u001b[0;32m     37\u001b[0m \u001b[38;5;28;01mif\u001b[39;00m mu_torch\u001b[38;5;241m.\u001b[39mrequires_grad \u001b[38;5;129;01mis\u001b[39;00m \u001b[38;5;28;01mFalse\u001b[39;00m:\n\u001b[0;32m     38\u001b[0m     \u001b[38;5;28;01mraise\u001b[39;00m \u001b[38;5;167;01mValueError\u001b[39;00m(\u001b[38;5;124m\"\u001b[39m\u001b[38;5;124mmu_torch should require grad\u001b[39m\u001b[38;5;124m\"\u001b[39m)\n\u001b[1;32m---> 39\u001b[0m C_pred \u001b[38;5;241m=\u001b[39m C_MixG_Torch(X, r, tau, sigma_0, mu_torch, pi)\n\u001b[0;32m     40\u001b[0m loss \u001b[38;5;241m=\u001b[39m loss_torch(C_pred, C_obs)\n\u001b[0;32m     42\u001b[0m \u001b[38;5;66;03m# 计算 loss 相对于 mu_torch 的梯度\u001b[39;00m\n",
      "File \u001b[1;32mc:\\Users\\Haoqi_ZHAO\\Desktop\\Jun fan project\\BS_Opt\\modules\\BS_MixG_model.py:57\u001b[0m, in \u001b[0;36mC_MixG_Torch\u001b[1;34m(X, r, tau, sigma, mu, pi)\u001b[0m\n\u001b[0;32m     54\u001b[0m     \u001b[38;5;28;01mraise\u001b[39;00m \u001b[38;5;167;01mValueError\u001b[39;00m(\u001b[38;5;124m\"\u001b[39m\u001b[38;5;124mmu should be a torch.Tensor\u001b[39m\u001b[38;5;124m\"\u001b[39m)\n\u001b[0;32m     55\u001b[0m \u001b[38;5;66;03m# 计算d1和d2为向量\u001b[39;00m\n\u001b[0;32m     56\u001b[0m d1 \u001b[38;5;241m=\u001b[39m (torch\u001b[38;5;241m.\u001b[39mexp(\u001b[38;5;241m-\u001b[39mr \u001b[38;5;241m*\u001b[39m tau \u001b[38;5;241m+\u001b[39m mu \u001b[38;5;241m+\u001b[39m \u001b[38;5;241m0.5\u001b[39m \u001b[38;5;241m*\u001b[39m sigma \u001b[38;5;241m*\u001b[39m\u001b[38;5;241m*\u001b[39m \u001b[38;5;241m2\u001b[39m)[:, \u001b[38;5;28;01mNone\u001b[39;00m] \u001b[38;5;241m*\u001b[39m \n\u001b[1;32m---> 57\u001b[0m       F_torch((torch\u001b[38;5;241m.\u001b[39mlog(X) \u001b[38;5;241m-\u001b[39m (mu[:, \u001b[38;5;28;01mNone\u001b[39;00m] \u001b[38;5;241m+\u001b[39m sigma \u001b[38;5;241m*\u001b[39m\u001b[38;5;241m*\u001b[39m \u001b[38;5;241m2\u001b[39m)) \u001b[38;5;241m/\u001b[39m sigma))\n\u001b[0;32m     58\u001b[0m d2 \u001b[38;5;241m=\u001b[39m (torch\u001b[38;5;241m.\u001b[39mexp(\u001b[38;5;241m-\u001b[39mr \u001b[38;5;241m*\u001b[39m tau) \u001b[38;5;241m*\u001b[39m X \u001b[38;5;241m*\u001b[39m \n\u001b[0;32m     59\u001b[0m       F_torch((torch\u001b[38;5;241m.\u001b[39mlog(X) \u001b[38;5;241m-\u001b[39m mu[:, \u001b[38;5;28;01mNone\u001b[39;00m]) \u001b[38;5;241m/\u001b[39m sigma))\n\u001b[0;32m     61\u001b[0m \u001b[38;5;66;03m# 对混合组件求和\u001b[39;00m\n",
      "File \u001b[1;32mc:\\Users\\Haoqi_ZHAO\\Desktop\\Jun fan project\\BS_Opt\\modules\\BS_MixG_model.py:40\u001b[0m, in \u001b[0;36mF_torch\u001b[1;34m(X)\u001b[0m\n\u001b[0;32m     38\u001b[0m \u001b[38;5;28;01mdef\u001b[39;00m \u001b[38;5;21mF_torch\u001b[39m(X):\n\u001b[0;32m     39\u001b[0m     normal \u001b[38;5;241m=\u001b[39m Normal(\u001b[38;5;241m0\u001b[39m, \u001b[38;5;241m1\u001b[39m)\n\u001b[1;32m---> 40\u001b[0m     \u001b[38;5;28;01mreturn\u001b[39;00m \u001b[38;5;241m1\u001b[39m \u001b[38;5;241m-\u001b[39m normal\u001b[38;5;241m.\u001b[39mcdf(X)\n",
      "File \u001b[1;32m~\\AppData\\Roaming\\Python\\Python311\\site-packages\\torch\\distributions\\normal.py:94\u001b[0m, in \u001b[0;36mNormal.cdf\u001b[1;34m(self, value)\u001b[0m\n\u001b[0;32m     92\u001b[0m \u001b[38;5;28;01mdef\u001b[39;00m \u001b[38;5;21mcdf\u001b[39m(\u001b[38;5;28mself\u001b[39m, value):\n\u001b[0;32m     93\u001b[0m     \u001b[38;5;28;01mif\u001b[39;00m \u001b[38;5;28mself\u001b[39m\u001b[38;5;241m.\u001b[39m_validate_args:\n\u001b[1;32m---> 94\u001b[0m         \u001b[38;5;28mself\u001b[39m\u001b[38;5;241m.\u001b[39m_validate_sample(value)\n\u001b[0;32m     95\u001b[0m     \u001b[38;5;28;01mreturn\u001b[39;00m \u001b[38;5;241m0.5\u001b[39m \u001b[38;5;241m*\u001b[39m (\n\u001b[0;32m     96\u001b[0m         \u001b[38;5;241m1\u001b[39m \u001b[38;5;241m+\u001b[39m torch\u001b[38;5;241m.\u001b[39merf((value \u001b[38;5;241m-\u001b[39m \u001b[38;5;28mself\u001b[39m\u001b[38;5;241m.\u001b[39mloc) \u001b[38;5;241m*\u001b[39m \u001b[38;5;28mself\u001b[39m\u001b[38;5;241m.\u001b[39mscale\u001b[38;5;241m.\u001b[39mreciprocal() \u001b[38;5;241m/\u001b[39m math\u001b[38;5;241m.\u001b[39msqrt(\u001b[38;5;241m2\u001b[39m))\n\u001b[0;32m     97\u001b[0m     )\n",
      "File \u001b[1;32m~\\AppData\\Roaming\\Python\\Python311\\site-packages\\torch\\distributions\\distribution.py:315\u001b[0m, in \u001b[0;36mDistribution._validate_sample\u001b[1;34m(self, value)\u001b[0m\n\u001b[0;32m    313\u001b[0m valid \u001b[38;5;241m=\u001b[39m support\u001b[38;5;241m.\u001b[39mcheck(value)\n\u001b[0;32m    314\u001b[0m \u001b[38;5;28;01mif\u001b[39;00m \u001b[38;5;129;01mnot\u001b[39;00m valid\u001b[38;5;241m.\u001b[39mall():\n\u001b[1;32m--> 315\u001b[0m     \u001b[38;5;28;01mraise\u001b[39;00m \u001b[38;5;167;01mValueError\u001b[39;00m(\n\u001b[0;32m    316\u001b[0m         \u001b[38;5;124m\"\u001b[39m\u001b[38;5;124mExpected value argument \u001b[39m\u001b[38;5;124m\"\u001b[39m\n\u001b[0;32m    317\u001b[0m         \u001b[38;5;124mf\u001b[39m\u001b[38;5;124m\"\u001b[39m\u001b[38;5;124m(\u001b[39m\u001b[38;5;132;01m{\u001b[39;00m\u001b[38;5;28mtype\u001b[39m(value)\u001b[38;5;241m.\u001b[39m\u001b[38;5;18m__name__\u001b[39m\u001b[38;5;132;01m}\u001b[39;00m\u001b[38;5;124m of shape \u001b[39m\u001b[38;5;132;01m{\u001b[39;00m\u001b[38;5;28mtuple\u001b[39m(value\u001b[38;5;241m.\u001b[39mshape)\u001b[38;5;132;01m}\u001b[39;00m\u001b[38;5;124m) \u001b[39m\u001b[38;5;124m\"\u001b[39m\n\u001b[0;32m    318\u001b[0m         \u001b[38;5;124mf\u001b[39m\u001b[38;5;124m\"\u001b[39m\u001b[38;5;124mto be within the support (\u001b[39m\u001b[38;5;132;01m{\u001b[39;00m\u001b[38;5;28mrepr\u001b[39m(support)\u001b[38;5;132;01m}\u001b[39;00m\u001b[38;5;124m) \u001b[39m\u001b[38;5;124m\"\u001b[39m\n\u001b[0;32m    319\u001b[0m         \u001b[38;5;124mf\u001b[39m\u001b[38;5;124m\"\u001b[39m\u001b[38;5;124mof the distribution \u001b[39m\u001b[38;5;132;01m{\u001b[39;00m\u001b[38;5;28mrepr\u001b[39m(\u001b[38;5;28mself\u001b[39m)\u001b[38;5;132;01m}\u001b[39;00m\u001b[38;5;124m, \u001b[39m\u001b[38;5;124m\"\u001b[39m\n\u001b[0;32m    320\u001b[0m         \u001b[38;5;124mf\u001b[39m\u001b[38;5;124m\"\u001b[39m\u001b[38;5;124mbut found invalid values:\u001b[39m\u001b[38;5;130;01m\\n\u001b[39;00m\u001b[38;5;132;01m{\u001b[39;00mvalue\u001b[38;5;132;01m}\u001b[39;00m\u001b[38;5;124m\"\u001b[39m\n\u001b[0;32m    321\u001b[0m     )\n",
      "\u001b[1;31mValueError\u001b[0m: Expected value argument (Tensor of shape (34, 33)) to be within the support (Real()) of the distribution Normal(loc: 0.0, scale: 1.0), but found invalid values:\ntensor([[nan, nan, nan,  ..., nan, nan, nan],\n        [nan, nan, nan,  ..., nan, nan, nan],\n        [nan, nan, nan,  ..., nan, nan, nan],\n        ...,\n        [nan, nan, nan,  ..., nan, nan, nan],\n        [nan, nan, nan,  ..., nan, nan, nan],\n        [nan, nan, nan,  ..., nan, nan, nan]], grad_fn=<DivBackward0>)"
     ]
    }
   ],
   "source": [
    "mu_init_value = 2.67\n",
    "C_pred, C_pred_opt_1, C_pred_opt_2, loss_opt, mu_opt, pi_opt = simulation_LOOCV(0.071, C_obs, n, X, r, tau, 0, mu_init_value)\n",
    "plt.scatter(X, C_obs, label='C_obs')\n",
    "plt.scatter(X, C_pred, label='C_pred')\n",
    "plt.scatter(X, C_pred_opt_1, label='C_pred_opt_1')\n",
    "plt.scatter(X, C_pred_opt_2, label='C_pred_opt_2')\n",
    "plt.xlabel('X')\n",
    "plt.ylabel('C')\n",
    "plt.legend()\n",
    "plt.show()"
   ]
  },
  {
   "cell_type": "code",
   "execution_count": null,
   "metadata": {},
   "outputs": [],
   "source": [
    "# 用这个模型预测测试集\n",
    "X_test = test['strick_price(X)']\n",
    "X_test = np.array(X_test)\n",
    "C_obs_test = test['option_price(C_bid)']\n",
    "C_obs_test = np.array(C_obs_test)\n",
    "n_test = len(C_obs_test)\n",
    "tau_test = 0.09589041\n",
    "r = 2.069 / 100\n",
    "C_pred = C_MixG(X, r, tau, 0.071, mu_opt, pi_opt)\n",
    "# 计算loss\n",
    "loss = np.sum((C_obs - C_pred) ** 2) / n\n",
    "loss"
   ]
  },
  {
   "cell_type": "code",
   "execution_count": null,
   "metadata": {},
   "outputs": [],
   "source": [
    "\n",
    "plt.scatter(X, C_obs, label='C_obs')\n",
    "plt.scatter(X, C_pred, label='C_pred')\n",
    "plt.xlabel('X')\n",
    "plt.ylabel('C')\n",
    "plt.legend()\n",
    "plt.show()"
   ]
  },
  {
   "cell_type": "code",
   "execution_count": 20,
   "metadata": {},
   "outputs": [],
   "source": [
    "import torch\n",
    "from modules.BS_MixG_model import C_MixG_Torch\n",
    "from modules.BS_Theoretical_Model import BS_Theoretical_Value, add_noise_to_option_values\n",
    "from utils import loss_torch, constraint_loss\n",
    "import numpy as np\n",
    "import matplotlib.pyplot as plt\n",
    "from tqdm import tqdm"
   ]
  },
  {
   "cell_type": "code",
   "execution_count": 21,
   "metadata": {},
   "outputs": [],
   "source": [
    "class Args:\n",
    "    def __init__(self, n, r, tau, d):\n",
    "        self.n = n  # Example: 25\n",
    "        self.r = r  # Example: 0.045\n",
    "        self.tau = tau  # Example: 30 / 365\n",
    "        self.d = d\n",
    "\n",
    "class Model(torch.nn.Module):\n",
    "    def __init__(self, args):\n",
    "        super(Model, self).__init__()\n",
    "        # self.pi = torch.nn.Parameter(torch.ones(args.n + 1) / (args.n + 1), requires_grad=True)\n",
    "        self.pi_raw = torch.nn.Parameter(torch.ones(args.n + 1), requires_grad=True)\n",
    "        # mu 0, 1正态初始化\n",
    "        self.mu = torch.nn.Parameter(torch.FloatTensor(n + 1).uniform_(mu_init_value, mu_init_value + 1e-3), requires_grad=True)\n",
    "        self.sigma =torch.nn.Parameter(torch.tensor(0.06), requires_grad=True)\n",
    "        self.r = torch.tensor(args.r)\n",
    "        self.tau = args.tau\n",
    "        self.d = torch.tensor(args.d)\n",
    "    \n",
    "    @property\n",
    "    def pi(self):\n",
    "        # 将 pi_raw 转换为满足约束的 pi，使用 softmax 确保 pi 大于0且总和为1\n",
    "        return torch.softmax(self.pi_raw, dim=0)\n",
    "    \n",
    "    def constraint(self, X):\n",
    "        exp_mu = torch.exp(self.mu)\n",
    "        weighted_exp_mu = torch.matmul(exp_mu, self.pi)\n",
    "        sigma_term = torch.exp(self.sigma ** 2 / 2)\n",
    "        left_term = weighted_exp_mu * sigma_term\n",
    "        right_term = torch.mean(torch.exp((self.r - self.d) * self.tau) * X)\n",
    "        return left_term, right_term\n",
    "\n",
    "    def forward(self, X):\n",
    "        return C_MixG_Torch(X, self.r, self.tau, self.sigma, self.mu, self.pi)"
   ]
  },
  {
   "cell_type": "code",
   "execution_count": 22,
   "metadata": {},
   "outputs": [],
   "source": [
    "# [0.08493151 0.09589041]"
   ]
  },
  {
   "cell_type": "code",
   "execution_count": null,
   "metadata": {},
   "outputs": [],
   "source": [
    "C_obs = train['option_price(C_bid)']\n",
    "C_obs = np.array(C_obs)\n",
    "C_obs = torch.tensor(C_obs, dtype=torch.float32)\n",
    "X_torch = torch.tensor(X, dtype=torch.float32)\n",
    "X_torch, C_obs"
   ]
  },
  {
   "cell_type": "code",
   "execution_count": null,
   "metadata": {},
   "outputs": [],
   "source": [
    "args = Args(n=33, r=0.0208788, tau=0.08493151, d=0)\n",
    "model = Model(args)\n",
    "lr = 0.001\n",
    "losses = []\n",
    "for epoch in tqdm(range(1000)):\n",
    "    loss = loss_torch(model(X_torch), C_obs)\n",
    "    left_term, right_term = model.constraint(X)\n",
    "    cons_loss = constraint_loss(left_term, right_term, weight=5)\n",
    "    total_loss = loss + cons_loss\n",
    "    total_loss.backward()\n",
    "    losses.append(loss.detach().numpy())\n",
    "    with torch.no_grad():\n",
    "        model.mu -= lr * model.mu.grad\n",
    "        model.pi_raw -= lr * model.pi_raw.grad\n",
    "        model.sigma -= lr * model.sigma.grad\n",
    "        model.mu.grad.zero_()\n",
    "        model.pi_raw.grad.zero_()\n",
    "        model.sigma.grad.zero_()\n",
    "print(\"Training Finished\")\n"
   ]
  },
  {
   "cell_type": "code",
   "execution_count": null,
   "metadata": {},
   "outputs": [],
   "source": [
    "\n",
    "# 查看约束是否满足\n",
    "left_term, right_term = model.constraint(X)\n",
    "print(\"Left term:\", left_term)\n",
    "print(\"Right term:\", right_term)\n",
    "# 查看pi参数\n",
    "print(\"Pi:\", model.pi.data, model.pi.data.sum())\n",
    "print(\"Sigma:\", model.sigma.data)\n",
    "print(\"Mu:\", model.mu.data)\n",
    "print(\"Loss\", losses[-1])\n",
    "# 画出 loss 曲线\n",
    "plt.plot(losses)\n",
    "plt.show()\n",
    "# 画出模型的拟合结果\n",
    "plt.scatter(X, C_obs, label='C_obs')\n",
    "plt.scatter(X, model(X_torch).detach().numpy(), label='C_pred')\n",
    "plt.legend()\n",
    "plt.show()\n"
   ]
  }
 ],
 "metadata": {
  "kernelspec": {
   "display_name": "NumericalMethod",
   "language": "python",
   "name": "python3"
  },
  "language_info": {
   "codemirror_mode": {
    "name": "ipython",
    "version": 3
   },
   "file_extension": ".py",
   "mimetype": "text/x-python",
   "name": "python",
   "nbconvert_exporter": "python",
   "pygments_lexer": "ipython3",
   "version": "3.11.9"
  }
 },
 "nbformat": 4,
 "nbformat_minor": 2
}
